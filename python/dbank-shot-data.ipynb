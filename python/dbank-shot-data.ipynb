{
 "cells": [
  {
   "cell_type": "markdown",
   "metadata": {},
   "source": [
    "# Deutsche Bank Shot Data\n",
    "\n",
    "__Author__:  @brocktibert  \n",
    "\n",
    "__Date__:  September 2015"
   ]
  },
  {
   "cell_type": "code",
   "execution_count": 11,
   "metadata": {
    "collapsed": true
   },
   "outputs": [],
   "source": [
    "## load the initial libraries\n",
    "import requests\n",
    "import pandas as pd\n",
    "from bs4 import BeautifulSoup\n",
    "import re\n"
   ]
  },
  {
   "cell_type": "code",
   "execution_count": 2,
   "metadata": {
    "collapsed": false
   },
   "outputs": [
    {
     "data": {
      "text/plain": [
       "''"
      ]
     },
     "execution_count": 2,
     "metadata": {},
     "output_type": "execute_result"
    }
   ],
   "source": [
    "## some setup data for functions\n",
    "years = ['2014', '2015']\n",
    "# _2014 = 'http://www.pgatour.com/data/r/505/2014/scorecards/'\n",
    "_# 2015 = 'http://www.pgatour.com/data/r/505/2015/scorecards/'"
   ]
  },
  {
   "cell_type": "code",
   "execution_count": 8,
   "metadata": {
    "collapsed": false
   },
   "outputs": [
    {
     "name": "stdout",
     "output_type": "stream",
     "text": [
      "http://www.pgatour.com/data/r/505/2014/scorecards/\n"
     ]
    }
   ],
   "source": [
    "## function to extract the json scorecards with the shot data\n",
    "def get_scorecards(year):\n",
    "    BASE = \"http://www.pgatour.com/data/r/505/\"\n",
    "    URL = 'http://www.pgatour.com/data/r/505/{0}/scorecards/'.format(year)\n",
    "    r = requests.get(URL)\n",
    "    print (URL)\n",
    "    \n",
    "\n",
    "\n"
   ]
  },
  {
   "cell_type": "code",
   "execution_count": 4,
   "metadata": {
    "collapsed": true
   },
   "outputs": [],
   "source": [
    "year = 2015\n",
    "URL = 'http://www.pgatour.com/data/r/505/{0}/scorecards/'.format(year)"
   ]
  },
  {
   "cell_type": "code",
   "execution_count": 5,
   "metadata": {
    "collapsed": false
   },
   "outputs": [],
   "source": [
    " r = requests.get(URL)"
   ]
  },
  {
   "cell_type": "code",
   "execution_count": null,
   "metadata": {
    "collapsed": false
   },
   "outputs": [],
   "source": [
    "## parse out links that match a pattern\n",
    "links = BeautifulSoup(r.content).find_all(\"a\", href=re.compile(\".json$\"))\n",
    "links\n",
    "links_list = []"
   ]
  }
 ],
 "metadata": {
  "kernelspec": {
   "display_name": "Python 3",
   "language": "python",
   "name": "python3"
  },
  "language_info": {
   "codemirror_mode": {
    "name": "ipython",
    "version": 3
   },
   "file_extension": ".py",
   "mimetype": "text/x-python",
   "name": "python",
   "nbconvert_exporter": "python",
   "pygments_lexer": "ipython3",
   "version": "3.4.3"
  }
 },
 "nbformat": 4,
 "nbformat_minor": 0
}
