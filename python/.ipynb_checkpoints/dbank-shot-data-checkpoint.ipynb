{
 "cells": [
  {
   "cell_type": "markdown",
   "metadata": {},
   "source": [
    "# Deutsche Bank Shot Data\n",
    "\n",
    "__Author__:  @brocktibert  \n",
    "\n",
    "__Date__:  September 2015"
   ]
  },
  {
   "cell_type": "code",
   "execution_count": 1,
   "metadata": {
    "collapsed": true
   },
   "outputs": [],
   "source": [
    "## load the initial libraries\n",
    "import requests\n",
    "import pandas as pd\n"
   ]
  },
  {
   "cell_type": "code",
   "execution_count": 3,
   "metadata": {
    "collapsed": false
   },
   "outputs": [],
   "source": [
    "## some setup data for functions\n",
    "years = ['2014', '2015']\n",
    "# _2014 = 'http://www.pgatour.com/data/r/505/2014/scorecards/'\n",
    "_# 2015 = 'http://www.pgatour.com/data/r/505/2015/scorecards/'"
   ]
  },
  {
   "cell_type": "code",
   "execution_count": 8,
   "metadata": {
    "collapsed": false
   },
   "outputs": [
    {
     "name": "stdout",
     "output_type": "stream",
     "text": [
      "http://www.pgatour.com/data/r/505/2014/scorecards/\n"
     ]
    }
   ],
   "source": [
    "## function to extract the json scorecards with the shot data\n",
    "def get_scorecards(year):\n",
    "    BASE = \"http://www.pgatour.com/data/r/505/\"\n",
    "    URL = 'http://www.pgatour.com/data/r/505/{0}/scorecards/'.format(year)\n",
    "    print (URL)\n",
    "    \n",
    "\n",
    "\n"
   ]
  }
 ],
 "metadata": {
  "kernelspec": {
   "display_name": "Python 3",
   "language": "python",
   "name": "python3"
  },
  "language_info": {
   "codemirror_mode": {
    "name": "ipython",
    "version": 3
   },
   "file_extension": ".py",
   "mimetype": "text/x-python",
   "name": "python",
   "nbconvert_exporter": "python",
   "pygments_lexer": "ipython3",
   "version": "3.4.3"
  }
 },
 "nbformat": 4,
 "nbformat_minor": 0
}
